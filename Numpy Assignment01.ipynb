{
 "cells": [
  {
   "cell_type": "code",
   "execution_count": 1,
   "id": "39d44e16",
   "metadata": {},
   "outputs": [],
   "source": [
    "import numpy as np"
   ]
  },
  {
   "cell_type": "markdown",
   "id": "23c2dcbe",
   "metadata": {},
   "source": [
    "**1.Write a NumPy program to get the numpy version and show numpy build configuration.**"
   ]
  },
  {
   "cell_type": "code",
   "execution_count": 4,
   "id": "71e9135f",
   "metadata": {},
   "outputs": [
    {
     "data": {
      "text/plain": [
       "'1.21.5'"
      ]
     },
     "execution_count": 4,
     "metadata": {},
     "output_type": "execute_result"
    }
   ],
   "source": [
    "np.__version__"
   ]
  },
  {
   "cell_type": "markdown",
   "id": "0f5f4abe",
   "metadata": {},
   "source": [
    "**2. Write a NumPy program to get help on the add function.**"
   ]
  },
  {
   "cell_type": "code",
   "execution_count": 5,
   "id": "19c6ad55",
   "metadata": {},
   "outputs": [
    {
     "name": "stdout",
     "output_type": "stream",
     "text": [
      "Help on ufunc:\n",
      "\n",
      "add = <ufunc 'add'>\n",
      "    add(x1, x2, /, out=None, *, where=True, casting='same_kind', order='K', dtype=None, subok=True[, signature, extobj])\n",
      "    \n",
      "    Add arguments element-wise.\n",
      "    \n",
      "    Parameters\n",
      "    ----------\n",
      "    x1, x2 : array_like\n",
      "        The arrays to be added.\n",
      "        If ``x1.shape != x2.shape``, they must be broadcastable to a common\n",
      "        shape (which becomes the shape of the output).\n",
      "    out : ndarray, None, or tuple of ndarray and None, optional\n",
      "        A location into which the result is stored. If provided, it must have\n",
      "        a shape that the inputs broadcast to. If not provided or None,\n",
      "        a freshly-allocated array is returned. A tuple (possible only as a\n",
      "        keyword argument) must have length equal to the number of outputs.\n",
      "    where : array_like, optional\n",
      "        This condition is broadcast over the input. At locations where the\n",
      "        condition is True, the `out` array will be set to the ufunc result.\n",
      "        Elsewhere, the `out` array will retain its original value.\n",
      "        Note that if an uninitialized `out` array is created via the default\n",
      "        ``out=None``, locations within it where the condition is False will\n",
      "        remain uninitialized.\n",
      "    **kwargs\n",
      "        For other keyword-only arguments, see the\n",
      "        :ref:`ufunc docs <ufuncs.kwargs>`.\n",
      "    \n",
      "    Returns\n",
      "    -------\n",
      "    add : ndarray or scalar\n",
      "        The sum of `x1` and `x2`, element-wise.\n",
      "        This is a scalar if both `x1` and `x2` are scalars.\n",
      "    \n",
      "    Notes\n",
      "    -----\n",
      "    Equivalent to `x1` + `x2` in terms of array broadcasting.\n",
      "    \n",
      "    Examples\n",
      "    --------\n",
      "    >>> np.add(1.0, 4.0)\n",
      "    5.0\n",
      "    >>> x1 = np.arange(9.0).reshape((3, 3))\n",
      "    >>> x2 = np.arange(3.0)\n",
      "    >>> np.add(x1, x2)\n",
      "    array([[  0.,   2.,   4.],\n",
      "           [  3.,   5.,   7.],\n",
      "           [  6.,   8.,  10.]])\n",
      "    \n",
      "    The ``+`` operator can be used as a shorthand for ``np.add`` on ndarrays.\n",
      "    \n",
      "    >>> x1 = np.arange(9.0).reshape((3, 3))\n",
      "    >>> x2 = np.arange(3.0)\n",
      "    >>> x1 + x2\n",
      "    array([[ 0.,  2.,  4.],\n",
      "           [ 3.,  5.,  7.],\n",
      "           [ 6.,  8., 10.]])\n",
      "\n"
     ]
    }
   ],
   "source": [
    "help(np.add)"
   ]
  },
  {
   "cell_type": "markdown",
   "id": "c81c7074",
   "metadata": {},
   "source": [
    "**3. Write a NumPy program to test whether none of the elements of a given array is zero.**"
   ]
  },
  {
   "cell_type": "code",
   "execution_count": 8,
   "id": "46171385",
   "metadata": {},
   "outputs": [
    {
     "data": {
      "text/plain": [
       "False"
      ]
     },
     "execution_count": 8,
     "metadata": {},
     "output_type": "execute_result"
    }
   ],
   "source": [
    "a=np.array([1,2,3,4,5,0])\n",
    "np.all(a)"
   ]
  },
  {
   "cell_type": "markdown",
   "id": "e220d673",
   "metadata": {},
   "source": [
    "**4. Write a NumPy program to test whether any of the elements of a given array is non-zero.**"
   ]
  },
  {
   "cell_type": "code",
   "execution_count": 9,
   "id": "92dc880b",
   "metadata": {},
   "outputs": [
    {
     "data": {
      "text/plain": [
       "True"
      ]
     },
     "execution_count": 9,
     "metadata": {},
     "output_type": "execute_result"
    }
   ],
   "source": [
    "a=np.array([1,2,3,4,5,0])\n",
    "np.any(a)"
   ]
  },
  {
   "cell_type": "markdown",
   "id": "718a5d70",
   "metadata": {},
   "source": [
    "**5. Write a NumPy program to test a given array element-wise for finiteness (not infinity or not a\n",
    "Number).**"
   ]
  },
  {
   "cell_type": "code",
   "execution_count": 15,
   "id": "6e68f1f0",
   "metadata": {},
   "outputs": [
    {
     "data": {
      "text/plain": [
       "array([False, False, False, False, False,  True])"
      ]
     },
     "execution_count": 15,
     "metadata": {},
     "output_type": "execute_result"
    }
   ],
   "source": [
    "a=np.array([1,2,3,4,5,np.inf])\n",
    "np.isinf(a)"
   ]
  },
  {
   "cell_type": "markdown",
   "id": "fc8c7fbf",
   "metadata": {},
   "source": [
    "**6. Write a NumPy program to test element-wise for positive or negative infinity.**"
   ]
  },
  {
   "cell_type": "code",
   "execution_count": 17,
   "id": "7bce20ab",
   "metadata": {},
   "outputs": [
    {
     "data": {
      "text/plain": [
       "array([False, False, False, False, False,  True])"
      ]
     },
     "execution_count": 17,
     "metadata": {},
     "output_type": "execute_result"
    }
   ],
   "source": [
    "a=np.array([1,2,3,4,5,np.inf])\n",
    "np.isposinf(a)"
   ]
  },
  {
   "cell_type": "code",
   "execution_count": 19,
   "id": "4a6f4622",
   "metadata": {},
   "outputs": [
    {
     "data": {
      "text/plain": [
       "array([False, False, False, False, False,  True])"
      ]
     },
     "execution_count": 19,
     "metadata": {},
     "output_type": "execute_result"
    }
   ],
   "source": [
    "a=np.array([1,2,np.inf,4,5,-np.inf])\n",
    "np.isneginf(a)"
   ]
  },
  {
   "cell_type": "markdown",
   "id": "1497acf5",
   "metadata": {},
   "source": [
    "**7. Write a NumPy program to test element-wise for NaN of a given array.**"
   ]
  },
  {
   "cell_type": "code",
   "execution_count": 20,
   "id": "c14d7210",
   "metadata": {},
   "outputs": [
    {
     "data": {
      "text/plain": [
       "array([False, False, False, False, False, False, False,  True])"
      ]
     },
     "execution_count": 20,
     "metadata": {},
     "output_type": "execute_result"
    }
   ],
   "source": [
    "a=np.array([1,2,np.inf,4,5,-np.inf,8,np.NaN])\n",
    "np.isnan(a)"
   ]
  },
  {
   "cell_type": "markdown",
   "id": "8098acc8",
   "metadata": {},
   "source": [
    "**8. Write a NumPy program to test element-wise for complex number, real number of a given array.\n",
    "Also test whether a given number is a scalar type or not.**"
   ]
  },
  {
   "cell_type": "code",
   "execution_count": 26,
   "id": "7e5689c8",
   "metadata": {},
   "outputs": [
    {
     "data": {
      "text/plain": [
       "array([False, False, False, False, False, False, False,  True])"
      ]
     },
     "execution_count": 26,
     "metadata": {},
     "output_type": "execute_result"
    }
   ],
   "source": [
    "a=np.array([1,2,np.inf,4,5,-np.inf,8,1+3j])\n",
    "np.iscomplex(a)"
   ]
  },
  {
   "cell_type": "markdown",
   "id": "30c28681",
   "metadata": {},
   "source": [
    "**9. Write a NumPy program to test whether two arrays are element-wise equal within a tolerance.**"
   ]
  },
  {
   "cell_type": "code",
   "execution_count": 27,
   "id": "5d882251",
   "metadata": {},
   "outputs": [
    {
     "name": "stdout",
     "output_type": "stream",
     "text": [
      "The two arrays are element-wise equal within the tolerance.\n"
     ]
    }
   ],
   "source": [
    "# create two arrays\n",
    "a = np.array([1.0, 2.0, 3.0])\n",
    "b = np.array([1.0001, 2.0002, 2.9999])\n",
    "\n",
    "# test for equality within a tolerance\n",
    "tolerance = 0.001\n",
    "equal = np.allclose(a, b, rtol=tolerance, atol=tolerance)\n",
    "\n",
    "# print the result\n",
    "if equal:\n",
    "    print(\"The two arrays are element-wise equal within the tolerance.\")\n",
    "else:\n",
    "    print(\"The two arrays are not element-wise equal within the tolerance.\")"
   ]
  },
  {
   "cell_type": "markdown",
   "id": "e9a6de7e",
   "metadata": {},
   "source": [
    "**10. Write a NumPy program to create an element-wise comparison (greater, greater_equal, less and\n",
    "less_equal) of two given arrays.**"
   ]
  },
  {
   "cell_type": "code",
   "execution_count": 28,
   "id": "8bcc0826",
   "metadata": {},
   "outputs": [
    {
     "name": "stdout",
     "output_type": "stream",
     "text": [
      "Greater than comparison:\n",
      "[False False False  True False]\n",
      "Greater than or equal to comparison:\n",
      "[False  True False  True False]\n",
      "Less than comparison:\n",
      "[ True False  True False  True]\n",
      "Less than or equal to comparison:\n",
      "[ True  True  True False  True]\n"
     ]
    }
   ],
   "source": [
    "# create two arrays\n",
    "arr1 = np.array([1, 2, 3, 4, 5])\n",
    "arr2 = np.array([4, 2, 6, 1, 7])\n",
    "\n",
    "# greater than comparison\n",
    "gt = np.greater(arr1, arr2)\n",
    "print(\"Greater than comparison:\")\n",
    "print(gt)\n",
    "\n",
    "# greater than or equal to comparison\n",
    "gte = np.greater_equal(arr1, arr2)\n",
    "print(\"Greater than or equal to comparison:\")\n",
    "print(gte)\n",
    "\n",
    "# less than comparison\n",
    "lt = np.less(arr1, arr2)\n",
    "print(\"Less than comparison:\")\n",
    "print(lt)\n",
    "\n",
    "# less than or equal to comparison\n",
    "lte = np.less_equal(arr1, arr2)\n",
    "print(\"Less than or equal to comparison:\")\n",
    "print(lte)"
   ]
  },
  {
   "cell_type": "markdown",
   "id": "a741e9be",
   "metadata": {},
   "source": [
    "**11. Write a NumPy program to create an element-wise comparison (equal, equal within a tolerance)\n",
    "of two given arrays.**"
   ]
  },
  {
   "cell_type": "code",
   "execution_count": 29,
   "id": "b37823a2",
   "metadata": {},
   "outputs": [
    {
     "name": "stdout",
     "output_type": "stream",
     "text": [
      "Element-wise equality comparison:\n",
      "[False False False]\n",
      "Element-wise equality within tolerance comparison:\n",
      "[ True  True  True]\n"
     ]
    }
   ],
   "source": [
    "# create two arrays\n",
    "arr1 = np.array([1.001, 2.002, 3.003])\n",
    "arr2 = np.array([1.0001, 2.0002, 3.0003])\n",
    "\n",
    "# element-wise equality comparison\n",
    "eq = np.equal(arr1, arr2)\n",
    "print(\"Element-wise equality comparison:\")\n",
    "print(eq)\n",
    "\n",
    "# element-wise equality within tolerance comparison\n",
    "tolerance = 0.001\n",
    "eq_tol = np.isclose(arr1, arr2, rtol=tolerance, atol=tolerance)\n",
    "print(\"Element-wise equality within tolerance comparison:\")\n",
    "print(eq_tol)"
   ]
  },
  {
   "cell_type": "markdown",
   "id": "c9aecdbc",
   "metadata": {},
   "source": [
    "**12. Write a NumPy program to create an array with the values 1, 7, 13, 105 and determine the size\n",
    "of the memory occupied by the array.**"
   ]
  },
  {
   "cell_type": "code",
   "execution_count": 30,
   "id": "ef20f3f3",
   "metadata": {},
   "outputs": [
    {
     "name": "stdout",
     "output_type": "stream",
     "text": [
      "Array: [  1   7  13 105]\n",
      "Size of the memory occupied by the array: 16 bytes\n"
     ]
    }
   ],
   "source": [
    "# create an array with the values 1, 7, 13, 105\n",
    "arr = np.array([1, 7, 13, 105])\n",
    "\n",
    "# determine the size of the memory occupied by the array\n",
    "size = arr.size * arr.itemsize\n",
    "\n",
    "print(\"Array:\", arr)\n",
    "print(\"Size of the memory occupied by the array:\", size, \"bytes\")"
   ]
  },
  {
   "cell_type": "markdown",
   "id": "f6b46de1",
   "metadata": {},
   "source": [
    "**13. Write a NumPy program to create an array of 10 zeros,10 ones, 10 fives.**"
   ]
  },
  {
   "cell_type": "code",
   "execution_count": 32,
   "id": "288f6add",
   "metadata": {},
   "outputs": [
    {
     "data": {
      "text/plain": [
       "array([0., 0., 0., 0., 0., 0., 0., 0., 0., 0.])"
      ]
     },
     "execution_count": 32,
     "metadata": {},
     "output_type": "execute_result"
    }
   ],
   "source": [
    "zero_array=np.zeros(10)\n",
    "zero_array"
   ]
  },
  {
   "cell_type": "code",
   "execution_count": 34,
   "id": "2d6f128c",
   "metadata": {},
   "outputs": [
    {
     "data": {
      "text/plain": [
       "array([1., 1., 1., 1., 1., 1., 1., 1., 1., 1.])"
      ]
     },
     "execution_count": 34,
     "metadata": {},
     "output_type": "execute_result"
    }
   ],
   "source": [
    "one_array=np.ones(10)\n",
    "one_array"
   ]
  },
  {
   "cell_type": "code",
   "execution_count": 38,
   "id": "69bd8279",
   "metadata": {},
   "outputs": [
    {
     "data": {
      "text/plain": [
       "array([5, 5, 5, 5, 5, 5, 5, 5, 5, 5])"
      ]
     },
     "execution_count": 38,
     "metadata": {},
     "output_type": "execute_result"
    }
   ],
   "source": [
    "five_array=np.full((10),5)\n",
    "five_array"
   ]
  },
  {
   "cell_type": "markdown",
   "id": "d36c033a",
   "metadata": {},
   "source": [
    "**14. Write a NumPy program to create an array of the integers from 30 to70.**"
   ]
  },
  {
   "cell_type": "code",
   "execution_count": 41,
   "id": "dc15df31",
   "metadata": {},
   "outputs": [
    {
     "name": "stdout",
     "output_type": "stream",
     "text": [
      "Array: [30 31 32 33 34 35 36 37 38 39 40 41 42 43 44 45 46 47 48 49 50 51 52 53\n",
      " 54 55 56 57 58 59 60 61 62 63 64 65 66 67 68 69 70]\n"
     ]
    }
   ],
   "source": [
    "# create an array of integers from 30 to 70\n",
    "arr = np.arange(30, 71)\n",
    "\n",
    "print(\"Array:\", arr)"
   ]
  },
  {
   "cell_type": "markdown",
   "id": "0aeceb73",
   "metadata": {},
   "source": [
    "**15. Write a NumPy program to create an array of all the even integers from 30 to 70.**"
   ]
  },
  {
   "cell_type": "code",
   "execution_count": 43,
   "id": "1dc9692a",
   "metadata": {},
   "outputs": [
    {
     "name": "stdout",
     "output_type": "stream",
     "text": [
      " Array of Even integers: [30 32 34 36 38 40 42 44 46 48 50 52 54 56 58 60 62 64 66 68 70]\n"
     ]
    }
   ],
   "source": [
    "# create an array of integers from 30 to 70\n",
    "even_arr = np.arange(30, 71,2)\n",
    "\n",
    "print(\" Array of Even integers:\", even_arr)"
   ]
  },
  {
   "cell_type": "markdown",
   "id": "f45a20ce",
   "metadata": {},
   "source": [
    "**16. Write a NumPy program to create a 3x3 identity matrix.**"
   ]
  },
  {
   "cell_type": "code",
   "execution_count": 48,
   "id": "85605b01",
   "metadata": {},
   "outputs": [
    {
     "name": "stdout",
     "output_type": "stream",
     "text": [
      "[[1. 0. 0.]\n",
      " [0. 1. 0.]\n",
      " [0. 0. 1.]]\n"
     ]
    }
   ],
   "source": [
    "# create a 3x3 identity matrix\n",
    "identity_matrix = np.identity(3)\n",
    "\n",
    "print(identity_matrix)"
   ]
  },
  {
   "cell_type": "markdown",
   "id": "6272a3d7",
   "metadata": {},
   "source": [
    "**17. Write a NumPy program to generate a random number between 0 and 1.**\n"
   ]
  },
  {
   "cell_type": "code",
   "execution_count": 57,
   "id": "7182790d",
   "metadata": {},
   "outputs": [
    {
     "name": "stdout",
     "output_type": "stream",
     "text": [
      "0.7997567199110295\n"
     ]
    }
   ],
   "source": [
    "# generate a random number between 0 and 1\n",
    "random_number = np.random.rand()\n",
    "\n",
    "print(random_number)"
   ]
  },
  {
   "cell_type": "markdown",
   "id": "3ee6ceef",
   "metadata": {},
   "source": [
    "**18. Write a NumPy program to generate an array of 15 random numbers from a standard normal\n",
    "distribution.**"
   ]
  },
  {
   "cell_type": "code",
   "execution_count": 58,
   "id": "10beddd6",
   "metadata": {},
   "outputs": [
    {
     "name": "stdout",
     "output_type": "stream",
     "text": [
      "[ 1.77942775 -0.62301896 -0.70299713  0.83399767 -0.14910172 -0.51706401\n",
      " -0.9952131   0.66121983  1.11312989 -0.40800732  0.43507514  0.10562052\n",
      " -1.25175528 -0.29997004  0.08078189]\n"
     ]
    }
   ],
   "source": [
    "# generate 15 random numbers from a standard normal distribution\n",
    "random_number = np.random.randn(15)\n",
    "\n",
    "print(random_number)"
   ]
  },
  {
   "cell_type": "markdown",
   "id": "895d3266",
   "metadata": {},
   "source": [
    "**19. Write a NumPy program to create a vector with values ranging from 15 to 55 and print all values\n",
    "except the first and last.**"
   ]
  },
  {
   "cell_type": "code",
   "execution_count": 60,
   "id": "45cdc289",
   "metadata": {},
   "outputs": [
    {
     "name": "stdout",
     "output_type": "stream",
     "text": [
      "[16 17 18 19 20 21 22 23 24 25 26 27 28 29 30 31 32 33 34 35 36 37 38 39\n",
      " 40 41 42 43 44 45 46 47 48 49 50 51 52 53 54]\n"
     ]
    }
   ],
   "source": [
    "# create a vector with values ranging from 15 to 55\n",
    "vector = np.arange(15, 56)\n",
    "\n",
    "#print all values except the first and last\n",
    "print(vector[1:-1])"
   ]
  },
  {
   "cell_type": "markdown",
   "id": "aa27e74c",
   "metadata": {},
   "source": [
    "**20. Write a NumPy program to create a 3X4 array using and iterate over it.**"
   ]
  },
  {
   "cell_type": "code",
   "execution_count": 65,
   "id": "7080124d",
   "metadata": {},
   "outputs": [
    {
     "name": "stdout",
     "output_type": "stream",
     "text": [
      "1\n",
      "2\n",
      "3\n",
      "4\n",
      "5\n",
      "6\n",
      "7\n",
      "8\n",
      "9\n",
      "10\n",
      "11\n",
      "12\n"
     ]
    }
   ],
   "source": [
    "# create a 3x4 array\n",
    "array = np.array([[1, 2, 3, 4], [5, 6, 7, 8], [9, 10, 11, 12]])\n",
    "\n",
    "# iterate over the elements of the array\n",
    "for j in array:\n",
    "    for i in j:\n",
    "        print(i)"
   ]
  },
  {
   "cell_type": "markdown",
   "id": "dc589ed7",
   "metadata": {},
   "source": [
    "**21. Write a NumPy program to create a vector of length 10 with values evenly distributed between 5\n",
    "and 50.**"
   ]
  },
  {
   "cell_type": "code",
   "execution_count": 67,
   "id": "0bfa7996",
   "metadata": {},
   "outputs": [
    {
     "name": "stdout",
     "output_type": "stream",
     "text": [
      "[ 5. 10. 15. 20. 25. 30. 35. 40. 45. 50.]\n"
     ]
    }
   ],
   "source": [
    "# create a vector of length 10 with values evenly distributed between 5 and 50\n",
    "vector = np.linspace(5, 50, 10)\n",
    "\n",
    "print(vector)"
   ]
  },
  {
   "cell_type": "markdown",
   "id": "fc67b8cf",
   "metadata": {},
   "source": [
    "**22. Write a NumPy program to create a vector with values from 0 to 20 and change the sign of the\n",
    "numbers in the range from 9 to 15.**"
   ]
  },
  {
   "cell_type": "code",
   "execution_count": 69,
   "id": "f9d5c2b9",
   "metadata": {},
   "outputs": [
    {
     "name": "stdout",
     "output_type": "stream",
     "text": [
      "[  0   1   2   3   4   5   6   7   8  -9 -10 -11 -12 -13 -14 -15  16  17\n",
      "  18  19  20]\n"
     ]
    }
   ],
   "source": [
    "# create a vector with values from 0 to 20\n",
    "vector = np.arange(21)\n",
    "\n",
    "# change the sign of the numbers in the range from 9 to 15\n",
    "vector[9:16]=-vector[9:16]\n",
    "\n",
    "print(vector)"
   ]
  },
  {
   "cell_type": "markdown",
   "id": "af5410b7",
   "metadata": {},
   "source": [
    "**23. Write a NumPy program to create a vector of length 5 filled with arbitrary integers from 0 to 10.**"
   ]
  },
  {
   "cell_type": "code",
   "execution_count": 74,
   "id": "2febb496",
   "metadata": {},
   "outputs": [
    {
     "name": "stdout",
     "output_type": "stream",
     "text": [
      "[8 2 5 2 5]\n"
     ]
    }
   ],
   "source": [
    "# create a vector with values from 0 to 20\n",
    "vector = np.random.randint(0,11,size=5)\n",
    "\n",
    "print(vector)"
   ]
  },
  {
   "cell_type": "markdown",
   "id": "8e4a1375",
   "metadata": {},
   "source": [
    "**24. Write a NumPy program to multiply the values of two given vectors.**"
   ]
  },
  {
   "cell_type": "code",
   "execution_count": 75,
   "id": "0aae0cde",
   "metadata": {},
   "outputs": [
    {
     "name": "stdout",
     "output_type": "stream",
     "text": [
      "[ 4 10 18]\n"
     ]
    }
   ],
   "source": [
    "# define two vectors\n",
    "vector1 = np.array([1, 2, 3])\n",
    "vector2 = np.array([4, 5, 6])\n",
    "\n",
    "# multiply the values of the two vectors element-wise\n",
    "result = vector1 * vector2\n",
    "\n",
    "print(result)"
   ]
  },
  {
   "cell_type": "markdown",
   "id": "27bee5cc",
   "metadata": {},
   "source": [
    "**25. Write a NumPy program to create a 3x4 matrix filled with values from 10 to 21.**"
   ]
  },
  {
   "cell_type": "code",
   "execution_count": 77,
   "id": "10fec91a",
   "metadata": {},
   "outputs": [
    {
     "name": "stdout",
     "output_type": "stream",
     "text": [
      "[[16 15 14 15]\n",
      " [16 14 19 19]\n",
      " [18 18 11 13]]\n"
     ]
    }
   ],
   "source": [
    "# create a 3x4 matrix with values from 10 to 21\n",
    "vector = np.random.randint(10,21,size=(3,4))\n",
    "\n",
    "print(vector)"
   ]
  },
  {
   "cell_type": "markdown",
   "id": "6f30b27e",
   "metadata": {},
   "source": [
    "**26. Write a NumPy program to find the number of rows and columns of a given matrix.**"
   ]
  },
  {
   "cell_type": "code",
   "execution_count": 85,
   "id": "192f0f44",
   "metadata": {},
   "outputs": [
    {
     "name": "stdout",
     "output_type": "stream",
     "text": [
      "Number of rows: 3\n",
      "Number of columns: 4\n"
     ]
    }
   ],
   "source": [
    "matrix=np.array([[16 ,15 ,14 ,15],\n",
    "                 [16 ,14 ,19 ,19],\n",
    "                 [18 ,18 ,11 ,13]])\n",
    "num_rows, num_cols = matrix.shape\n",
    "\n",
    "print(\"Number of rows:\", num_rows)\n",
    "print(\"Number of columns:\", num_cols)"
   ]
  },
  {
   "cell_type": "markdown",
   "id": "9d64911d",
   "metadata": {},
   "source": [
    "**27. Write a NumPy program to create a 3x3 identity matrix, i.e. diagonal elements are 1, the rest are\n",
    "0.**"
   ]
  },
  {
   "cell_type": "code",
   "execution_count": 86,
   "id": "d0461f3e",
   "metadata": {},
   "outputs": [
    {
     "name": "stdout",
     "output_type": "stream",
     "text": [
      "[[1. 0. 0.]\n",
      " [0. 1. 0.]\n",
      " [0. 0. 1.]]\n"
     ]
    }
   ],
   "source": [
    "# create a 3x3 identity matrix\n",
    "identity_matrix = np.identity(3)\n",
    "\n",
    "print(identity_matrix)"
   ]
  },
  {
   "cell_type": "markdown",
   "id": "80148ba7",
   "metadata": {},
   "source": [
    "**28. Write a NumPy program to create a 10x10 matrix, in which the elements on the borders will be\n",
    "equal to 1, and inside 0.**"
   ]
  },
  {
   "cell_type": "code",
   "execution_count": 87,
   "id": "c0dfbadf",
   "metadata": {},
   "outputs": [
    {
     "name": "stdout",
     "output_type": "stream",
     "text": [
      "[[1. 1. 1. 1. 1. 1. 1. 1. 1. 1.]\n",
      " [1. 0. 0. 0. 0. 0. 0. 0. 0. 1.]\n",
      " [1. 0. 0. 0. 0. 0. 0. 0. 0. 1.]\n",
      " [1. 0. 0. 0. 0. 0. 0. 0. 0. 1.]\n",
      " [1. 0. 0. 0. 0. 0. 0. 0. 0. 1.]\n",
      " [1. 0. 0. 0. 0. 0. 0. 0. 0. 1.]\n",
      " [1. 0. 0. 0. 0. 0. 0. 0. 0. 1.]\n",
      " [1. 0. 0. 0. 0. 0. 0. 0. 0. 1.]\n",
      " [1. 0. 0. 0. 0. 0. 0. 0. 0. 1.]\n",
      " [1. 1. 1. 1. 1. 1. 1. 1. 1. 1.]]\n"
     ]
    }
   ],
   "source": [
    "\n",
    "# create a 10x10 matrix of zeros\n",
    "matrix = np.zeros((10, 10))\n",
    "\n",
    "# set the border elements to 1\n",
    "matrix[0, :] = 1\n",
    "matrix[-1, :] = 1\n",
    "matrix[:, 0] = 1\n",
    "matrix[:, -1] = 1\n",
    "\n",
    "# print the resulting matrix\n",
    "print(matrix)"
   ]
  },
  {
   "cell_type": "markdown",
   "id": "8daeb9fb",
   "metadata": {},
   "source": [
    "**29. Write a NumPy program to create a 5x5 zero matrix with elements on the main diagonal equal to\n",
    "1, 2, 3, 4, 5.**"
   ]
  },
  {
   "cell_type": "code",
   "execution_count": 96,
   "id": "8c9e9231",
   "metadata": {},
   "outputs": [
    {
     "name": "stdout",
     "output_type": "stream",
     "text": [
      "[[ 1.  0.  0.  0.  0.  0.  0.  0.  0.  0.]\n",
      " [ 0.  2.  0.  0.  0.  0.  0.  0.  0.  0.]\n",
      " [ 0.  0.  3.  0.  0.  0.  0.  0.  0.  0.]\n",
      " [ 0.  0.  0.  4.  0.  0.  0.  0.  0.  0.]\n",
      " [ 0.  0.  0.  0.  5.  0.  0.  0.  0.  0.]\n",
      " [ 0.  0.  0.  0.  0.  6.  0.  0.  0.  0.]\n",
      " [ 0.  0.  0.  0.  0.  0.  7.  0.  0.  0.]\n",
      " [ 0.  0.  0.  0.  0.  0.  0.  8.  0.  0.]\n",
      " [ 0.  0.  0.  0.  0.  0.  0.  0.  9.  0.]\n",
      " [ 0.  0.  0.  0.  0.  0.  0.  0.  0. 10.]]\n"
     ]
    }
   ],
   "source": [
    "# create a 10x10 matrix of zeros\n",
    "matrix = np.zeros((10, 10))\n",
    "\n",
    "# set the daigonal elements to 1,2,3,4,5\n",
    "\n",
    "for i in range(10):\n",
    "    matrix[i][i]=i+1\n",
    "print(matrix)    "
   ]
  },
  {
   "cell_type": "markdown",
   "id": "f0cfb6fd",
   "metadata": {},
   "source": [
    "**30. Write a NumPy program to create a 4x4 matrix in which 0 and 1 are staggered, with zeros on the\n",
    "main diagonal.**"
   ]
  },
  {
   "cell_type": "code",
   "execution_count": 97,
   "id": "55277b7e",
   "metadata": {},
   "outputs": [
    {
     "name": "stdout",
     "output_type": "stream",
     "text": [
      "[[0. 0. 1. 0.]\n",
      " [1. 0. 1. 0.]\n",
      " [1. 0. 0. 0.]\n",
      " [1. 0. 1. 0.]]\n"
     ]
    }
   ],
   "source": [
    "# create a 4x4 matrix of zeros\n",
    "matrix = np.zeros((4, 4))\n",
    "\n",
    "# set the even columns to 1\n",
    "matrix[:, ::2] = 1\n",
    "\n",
    "# set the diagonal elements to 0\n",
    "matrix[range(4), range(4)] = 0\n",
    "\n",
    "# print the resulting matrix\n",
    "print(matrix)"
   ]
  },
  {
   "cell_type": "markdown",
   "id": "f11e877c",
   "metadata": {},
   "source": [
    "**31. Write a NumPy program to create a 3x3x3 array filled with arbitrary values.**"
   ]
  },
  {
   "cell_type": "code",
   "execution_count": 101,
   "id": "8d2a5457",
   "metadata": {},
   "outputs": [
    {
     "name": "stdout",
     "output_type": "stream",
     "text": [
      "[[[78 89 56]\n",
      "  [ 4  0 93]\n",
      "  [33 37 77]]\n",
      "\n",
      " [[34 91 18]\n",
      "  [34 75 39]\n",
      "  [52 13 21]]\n",
      "\n",
      " [[60 36 59]\n",
      "  [90 72 69]\n",
      "  [19 83 67]]]\n"
     ]
    }
   ],
   "source": [
    "# create a vector with values from 0 to 20\n",
    "vector = np.random.randint(100,size=(3,3,3))\n",
    "\n",
    "print(vector)"
   ]
  },
  {
   "cell_type": "markdown",
   "id": "b553e8ca",
   "metadata": {},
   "source": [
    "**32. Write a NumPy program to compute sum of all elements, sum of each column and sum of each\n",
    "row of a given array.**"
   ]
  },
  {
   "cell_type": "code",
   "execution_count": 102,
   "id": "82c8ec06",
   "metadata": {},
   "outputs": [
    {
     "name": "stdout",
     "output_type": "stream",
     "text": [
      "Sum of all elements: 45\n",
      "Sum of each column: [12 15 18]\n",
      "Sum of each row: [ 6 15 24]\n"
     ]
    }
   ],
   "source": [
    "# create a 3x3 array\n",
    "arr = np.array([[1, 2, 3], [4, 5, 6], [7, 8, 9]])\n",
    "\n",
    "# compute the sum of all elements\n",
    "sum_all = np.sum(arr)\n",
    "\n",
    "# compute the sum of each column\n",
    "sum_col = np.sum(arr, axis=0)\n",
    "\n",
    "# compute the sum of each row\n",
    "sum_row = np.sum(arr, axis=1)\n",
    "\n",
    "# print the results\n",
    "print(\"Sum of all elements:\", sum_all)\n",
    "print(\"Sum of each column:\", sum_col)\n",
    "print(\"Sum of each row:\", sum_row)"
   ]
  },
  {
   "cell_type": "markdown",
   "id": "94bc3982",
   "metadata": {},
   "source": [
    "**33. Write a NumPy program to compute the inner product of two given vectors.**"
   ]
  },
  {
   "cell_type": "code",
   "execution_count": 107,
   "id": "62cb361b",
   "metadata": {},
   "outputs": [
    {
     "name": "stdout",
     "output_type": "stream",
     "text": [
      "Inner product of the two vectors: 32\n"
     ]
    }
   ],
   "source": [
    "# define two vectors\n",
    "vector1 = np.array([1, 2, 3])\n",
    "vector2 = np.array([4, 5, 6])\n",
    "\n",
    "# multiply the values of the two vectors element-wise\n",
    "result = np.matmul(vector1 ,vector2)\n",
    "\n",
    "# print the result\n",
    "print(\"Inner product of the two vectors:\", inner_product)"
   ]
  },
  {
   "cell_type": "markdown",
   "id": "f4d5f47b",
   "metadata": {},
   "source": [
    "**34. Write a NumPy program to add a vector to each row of a given matrix.**"
   ]
  },
  {
   "cell_type": "code",
   "execution_count": 108,
   "id": "790e2333",
   "metadata": {},
   "outputs": [
    {
     "name": "stdout",
     "output_type": "stream",
     "text": [
      "Resultant matrix:\n",
      " [[11 13 15]\n",
      " [14 16 18]\n",
      " [17 19 21]]\n"
     ]
    }
   ],
   "source": [
    "# create a matrix\n",
    "matrix = np.array([[1, 2, 3], [4, 5, 6], [7, 8, 9]])\n",
    "\n",
    "# create a vector\n",
    "vector = np.array([10, 11, 12])\n",
    "\n",
    "# add the vector to each row of the matrix\n",
    "result = matrix + vector\n",
    "\n",
    "# print the result\n",
    "print(\"Resultant matrix:\\n\", result)"
   ]
  },
  {
   "cell_type": "markdown",
   "id": "86861d3d",
   "metadata": {},
   "source": [
    "**35. Write a NumPy program to save a given array to a binary file .**\n"
   ]
  },
  {
   "cell_type": "code",
   "execution_count": 111,
   "id": "ae3c5ee9",
   "metadata": {},
   "outputs": [],
   "source": [
    "arr = np.array([1, 2, 3, 4, 5])\n",
    "\n",
    "# save the array to a binary file\n",
    "np.save(\"my_array.npy\", arr)"
   ]
  },
  {
   "cell_type": "markdown",
   "id": "1f5490c7",
   "metadata": {},
   "source": [
    "**36. Write a NumPy program to save two given arrays into a single file in compressed format (.npz\n",
    "format) and load it.**\n"
   ]
  },
  {
   "cell_type": "code",
   "execution_count": 112,
   "id": "9320292c",
   "metadata": {},
   "outputs": [
    {
     "name": "stdout",
     "output_type": "stream",
     "text": [
      "Loaded arr1: [0 1 2 3 4 5 6 7 8 9]\n",
      "Loaded arr2: [0.   0.25 0.5  0.75 1.  ]\n"
     ]
    }
   ],
   "source": [
    "# create two arrays\n",
    "arr1 = np.arange(10)\n",
    "arr2 = np.linspace(0, 1, 5)\n",
    "\n",
    "# save the arrays in compressed format\n",
    "np.savez_compressed('my_array.npz', arr1=arr1, arr2=arr2)\n",
    "\n",
    "# load the saved file\n",
    "loaded_data = np.load('my_array.npz')\n",
    "\n",
    "# access the saved arrays\n",
    "loaded_arr1 = loaded_data['arr1']\n",
    "loaded_arr2 = loaded_data['arr2']\n",
    "\n",
    "# print the loaded arrays\n",
    "print(\"Loaded arr1:\", loaded_arr1)\n",
    "print(\"Loaded arr2:\", loaded_arr2)"
   ]
  },
  {
   "cell_type": "markdown",
   "id": "a504e7bd",
   "metadata": {},
   "source": [
    "**37. Write a NumPy program to save a given array to a text file and load it.**\n"
   ]
  },
  {
   "cell_type": "code",
   "execution_count": 113,
   "id": "207830c5",
   "metadata": {},
   "outputs": [
    {
     "name": "stdout",
     "output_type": "stream",
     "text": [
      "[[1. 2.]\n",
      " [3. 4.]]\n"
     ]
    }
   ],
   "source": [
    "# Create a NumPy array\n",
    "arr = np.array([[1, 2], [3, 4]])\n",
    "\n",
    "# Save the array to a text file\n",
    "np.savetxt('array.txt', arr)\n",
    "\n",
    "# Load the array from the text file\n",
    "loaded_arr = np.loadtxt('array.txt')\n",
    "\n",
    "# Print the loaded array\n",
    "print(loaded_arr)"
   ]
  },
  {
   "cell_type": "markdown",
   "id": "0700c258",
   "metadata": {},
   "source": [
    "**38. Write a NumPy program to convert a given array into bytes, and load it as array.**\n"
   ]
  },
  {
   "cell_type": "code",
   "execution_count": 114,
   "id": "b86f82a7",
   "metadata": {},
   "outputs": [
    {
     "name": "stdout",
     "output_type": "stream",
     "text": [
      "Original array: [1 2 3 4 5]\n",
      "Loaded array: [1 2 3 4 5]\n"
     ]
    }
   ],
   "source": [
    "# create a numpy array\n",
    "arr = np.array([1, 2, 3, 4, 5])\n",
    "\n",
    "# convert the array to bytes\n",
    "arr_bytes = arr.tobytes()\n",
    "\n",
    "# load the bytes as an array\n",
    "new_arr = np.frombuffer(arr_bytes, dtype=arr.dtype)\n",
    "\n",
    "# print the original and loaded array\n",
    "print(\"Original array:\", arr)\n",
    "print(\"Loaded array:\", new_arr)"
   ]
  },
  {
   "cell_type": "markdown",
   "id": "f023b350",
   "metadata": {},
   "source": [
    "**39. Write a NumPy program to convert a given list into an array, then again convert it into a list.\n",
    "Check initial list and final list are equal or not.**\n"
   ]
  },
  {
   "cell_type": "code",
   "execution_count": 115,
   "id": "e5895f14",
   "metadata": {},
   "outputs": [
    {
     "name": "stdout",
     "output_type": "stream",
     "text": [
      "True\n"
     ]
    }
   ],
   "source": [
    "# given list\n",
    "given_list = [1, 2, 3, 4, 5]\n",
    "\n",
    "# convert list to array\n",
    "arr = np.array(given_list)\n",
    "\n",
    "# convert array to list\n",
    "final_list = arr.tolist()\n",
    "\n",
    "# check if initial list and final list are equal or not\n",
    "print(given_list == final_list)"
   ]
  },
  {
   "cell_type": "markdown",
   "id": "361006a1",
   "metadata": {},
   "source": [
    "**40. Write a NumPy program to compute the x and y coordinates for points on a sine curve and plot\n",
    "the points using matplotlib.**\n"
   ]
  },
  {
   "cell_type": "code",
   "execution_count": 116,
   "id": "623d6d9e",
   "metadata": {},
   "outputs": [
    {
     "data": {
      "image/png": "[encoded data removed]",
      "text/plain": [
       "<Figure size 432x288 with 1 Axes>"
      ]
     },
     "metadata": {
      "needs_background": "light"
     },
     "output_type": "display_data"
    }
   ],
   "source": [
    "import matplotlib.pyplot as plt\n",
    "\n",
    "# define the x values (from 0 to 2π)\n",
    "x = np.linspace(0, 2*np.pi, 100)\n",
    "\n",
    "# compute the y values (sin of the x values)\n",
    "y = np.sin(x)\n",
    "\n",
    "# plot the points\n",
    "plt.plot(x, y)\n",
    "\n",
    "# set the title and axis labels\n",
    "plt.title('Sine Curve')\n",
    "plt.xlabel('x')\n",
    "plt.ylabel('y')\n",
    "\n",
    "# display the plot\n",
    "plt.show()"
   ]
  },
  {
   "cell_type": "markdown",
   "id": "a76eff69",
   "metadata": {},
   "source": [
    "**41. Write a NumPy program to convert numpy dtypes to native python types.**\n"
   ]
  },
  {
   "cell_type": "code",
   "execution_count": 117,
   "id": "86a2abe5",
   "metadata": {},
   "outputs": [
    {
     "name": "stdout",
     "output_type": "stream",
     "text": [
      "<class 'int'>\n",
      "<class 'float'>\n",
      "<class 'bool'>\n",
      "<class 'list'>\n"
     ]
    },
    {
     "name": "stderr",
     "output_type": "stream",
     "text": [
      "C:\\Users\\DELL\\AppData\\Local\\Temp\\ipykernel_27032\\2093617558.py:6: DeprecationWarning: np.asscalar(a) is deprecated since NumPy v1.16, use a.item() instead\n",
      "  x_native = np.asscalar(x)\n",
      "C:\\Users\\DELL\\AppData\\Local\\Temp\\ipykernel_27032\\2093617558.py:7: DeprecationWarning: np.asscalar(a) is deprecated since NumPy v1.16, use a.item() instead\n",
      "  y_native = np.asscalar(y)\n",
      "C:\\Users\\DELL\\AppData\\Local\\Temp\\ipykernel_27032\\2093617558.py:8: DeprecationWarning: np.asscalar(a) is deprecated since NumPy v1.16, use a.item() instead\n",
      "  z_native = np.asscalar(z)\n"
     ]
    }
   ],
   "source": [
    "# convert a NumPy dtype to native Python type\n",
    "x = np.int64(10)\n",
    "y = np.float64(3.14)\n",
    "z = np.bool_(True)\n",
    "\n",
    "x_native = np.asscalar(x)\n",
    "y_native = np.asscalar(y)\n",
    "z_native = np.asscalar(z)\n",
    "\n",
    "print(type(x_native))  # <class 'int'>\n",
    "print(type(y_native))  # <class 'float'>\n",
    "print(type(z_native))  # <class 'bool'>\n",
    "\n",
    "# convert a NumPy array to a native Python list\n",
    "arr = np.array([1, 2, 3])\n",
    "arr_list = arr.tolist()\n",
    "print(type(arr_list))  # <class 'list'>"
   ]
  },
  {
   "cell_type": "markdown",
   "id": "517ee78b",
   "metadata": {},
   "source": [
    "**42. Write a NumPy program to add elements in a matrix. If an element in the matrix is 0, we will not\n",
    "add the element below this element.**\n"
   ]
  },
  {
   "cell_type": "code",
   "execution_count": 118,
   "id": "5021db55",
   "metadata": {},
   "outputs": [
    {
     "name": "stdout",
     "output_type": "stream",
     "text": [
      "[[ 1  2  3]\n",
      " [ 5  2  9]\n",
      " [12 10 18]]\n"
     ]
    }
   ],
   "source": [
    "# define the matrix\n",
    "matrix = np.array([[1, 2, 3], [4, 0, 6], [7, 8, 9]])\n",
    "\n",
    "# iterate over the rows of the matrix\n",
    "for i in range(matrix.shape[0]):\n",
    "    # iterate over the columns of the matrix\n",
    "    for j in range(matrix.shape[1]):\n",
    "        # check if the element is 0 or not\n",
    "        if matrix[i,j] != 0:\n",
    "            # if the element is not 0, add it to the element below it (if any)\n",
    "            if i < matrix.shape[0]-1:\n",
    "                matrix[i+1,j] += matrix[i,j]\n",
    "\n",
    "print(matrix)"
   ]
  },
  {
   "cell_type": "markdown",
   "id": "58f6ca38",
   "metadata": {},
   "source": [
    "**43. Write a NumPy program to find the missing data in a given array.**\n"
   ]
  },
  {
   "cell_type": "code",
   "execution_count": 119,
   "id": "f20854c7",
   "metadata": {},
   "outputs": [
    {
     "name": "stdout",
     "output_type": "stream",
     "text": [
      "Missing data indices: (array([2, 4], dtype=int64),)\n"
     ]
    }
   ],
   "source": [
    "# create a NumPy array with some missing data\n",
    "arr = np.array([1, 2, np.nan, 4, np.nan, 6])\n",
    "\n",
    "# find the missing data using isnan()\n",
    "missing_indices = np.isnan(arr)\n",
    "\n",
    "# print the indices of the missing data\n",
    "print(\"Missing data indices:\", np.where(missing_indices))"
   ]
  },
  {
   "cell_type": "markdown",
   "id": "a524454a",
   "metadata": {},
   "source": [
    "**44. Write a NumPy program to check whether two arrays are equal (element wise) or not.**\n"
   ]
  },
  {
   "cell_type": "code",
   "execution_count": 120,
   "id": "8e9b577a",
   "metadata": {},
   "outputs": [
    {
     "name": "stdout",
     "output_type": "stream",
     "text": [
      "True\n",
      "False\n"
     ]
    }
   ],
   "source": [
    "# create two arrays\n",
    "a = np.array([1, 2, 3])\n",
    "b = np.array([1, 2, 3])\n",
    "\n",
    "# check if the arrays are equal\n",
    "print(np.array_equal(a, b))  # output: True\n",
    "\n",
    "# create another array\n",
    "c = np.array([1, 2, 4])\n",
    "\n",
    "# check if a and c are equal\n",
    "print(np.array_equal(a, c))  # output: False"
   ]
  },
  {
   "cell_type": "markdown",
   "id": "d52803eb",
   "metadata": {},
   "source": [
    "**45. Write a NumPy program to create one-dimensional array of single, two and three digit numbers.**\n"
   ]
  },
  {
   "cell_type": "code",
   "execution_count": 121,
   "id": "2d6f8898",
   "metadata": {},
   "outputs": [
    {
     "name": "stdout",
     "output_type": "stream",
     "text": [
      "[  1   2   3   4   5   6   7   8   9  10  20  30  40  50  60  70  80  90\n",
      " 100 200 300 400 500 600 700 800 900]\n"
     ]
    }
   ],
   "source": [
    "# create an array of single digit numbers\n",
    "single_digit_arr = np.array([1, 2, 3, 4, 5, 6, 7, 8, 9])\n",
    "\n",
    "# create an array of two digit numbers\n",
    "two_digit_arr = np.arange(10, 100, 10)\n",
    "\n",
    "# create an array of three digit numbers\n",
    "three_digit_arr = np.arange(100, 1000, 100)\n",
    "\n",
    "# concatenate the three arrays into a single one-dimensional array\n",
    "final_arr = np.concatenate((single_digit_arr, two_digit_arr, three_digit_arr))\n",
    "\n",
    "# print the final array\n",
    "print(final_arr)"
   ]
  },
  {
   "cell_type": "markdown",
   "id": "1054fdac",
   "metadata": {},
   "source": [
    "**46. Write a NumPy program to create a two-dimensional array of specified format.**"
   ]
  },
  {
   "cell_type": "code",
   "execution_count": 122,
   "id": "f9296da5",
   "metadata": {},
   "outputs": [
    {
     "name": "stdout",
     "output_type": "stream",
     "text": [
      "[[0 0 0 0]\n",
      " [0 0 0 0]\n",
      " [0 0 0 0]]\n"
     ]
    }
   ],
   "source": [
    "# Create a 2D array with 3 rows and 4 columns, filled with zeros\n",
    "arr = np.zeros((3, 4), dtype=int)\n",
    "\n",
    "print(arr)"
   ]
  },
  {
   "cell_type": "markdown",
   "id": "4a913fa5",
   "metadata": {},
   "source": [
    "**47. Write a NumPy program to create a one dimensional array of forty pseudo-randomly generated\n",
    "values. Select random numbers from a uniform distribution between 0 and 1.**"
   ]
  },
  {
   "cell_type": "code",
   "execution_count": 123,
   "id": "5b5120e5",
   "metadata": {},
   "outputs": [
    {
     "name": "stdout",
     "output_type": "stream",
     "text": [
      "[0.4848419  0.0598018  0.65486662 0.37549672 0.89924722 0.65329457\n",
      " 0.50510563 0.9338011  0.72378803 0.5014601  0.08922822 0.54319368\n",
      " 0.81310834 0.33521844 0.34307231 0.77104589 0.29124679 0.05443475\n",
      " 0.38968554 0.32056692 0.30981271 0.20452327 0.35146449 0.36756282\n",
      " 0.42151998 0.57950583 0.06716691 0.13620821 0.11724216 0.03531796\n",
      " 0.26201816 0.24845356 0.27363589 0.4430151  0.97288126 0.26149178\n",
      " 0.93543368 0.82271631 0.15746188 0.85201441]\n"
     ]
    }
   ],
   "source": [
    "\n",
    "# create an array of 40 pseudo-random numbers\n",
    "arr = np.random.uniform(0, 1, 40)\n",
    "\n",
    "# print the array\n",
    "print(arr)"
   ]
  },
  {
   "cell_type": "markdown",
   "id": "104c4f0c",
   "metadata": {},
   "source": [
    "**48. Write a NumPy program to create a two-dimensional array with shape (8,5) of random numbers.\n",
    "Select random numbers from a normal distribution (200,7).**"
   ]
  },
  {
   "cell_type": "code",
   "execution_count": 124,
   "id": "97e66acf",
   "metadata": {},
   "outputs": [
    {
     "name": "stdout",
     "output_type": "stream",
     "text": [
      "[[187.24865639 198.07486029 194.60446559 206.31418233 205.78958869]\n",
      " [203.57002457 198.12644784 193.88183195 197.23604403 202.59772696]\n",
      " [201.07735888 206.6942053  195.17179363 206.30444782 202.29595902]\n",
      " [202.22820397 211.44208299 207.45627206 190.66864267 194.4903623 ]\n",
      " [203.18894178 197.15343089 199.67126243 186.0688641  198.75113114]\n",
      " [188.87278381 204.66602147 208.73585014 197.88758401 189.50493886]\n",
      " [198.05147005 197.83228173 201.00038613 198.47671014 208.98003561]\n",
      " [194.67474114 201.55120978 203.21504446 197.76334457 197.69651229]]\n"
     ]
    }
   ],
   "source": [
    "\n",
    "# create a two-dimensional array of shape (8, 5) of random numbers from a normal distribution\n",
    "arr = np.random.normal(loc=200, scale=7, size=(8, 5))\n",
    "print(arr)"
   ]
  },
  {
   "cell_type": "markdown",
   "id": "ea0f0966",
   "metadata": {},
   "source": [
    "**49. Write a NumPy program to generate a uniform, non-uniform random sample from a given 1-D\n",
    "array with and without replacement.**"
   ]
  },
  {
   "cell_type": "code",
   "execution_count": 128,
   "id": "d0f81e8e",
   "metadata": {},
   "outputs": [
    {
     "data": {
      "text/plain": [
       "array([2, 4, 5, 1, 8])"
      ]
     },
     "execution_count": 128,
     "metadata": {},
     "output_type": "execute_result"
    }
   ],
   "source": [
    "\n",
    "# Create a 1-D array\n",
    "arr = np.array([1, 2, 3, 4, 5, 6, 7, 8, 9, 10])\n",
    "\n",
    "# Generate a uniform random sample of size 5 with replacement\n",
    "uniform_sample = np.random.choice(arr, size=5)\n",
    "\n",
    "# Generate a non-uniform random sample of size 5 with replacement\n",
    "probabilities = [0.1, 0.1, 0.2, 0.2, 0.05, 0.05, 0.1, 0.05, 0.05, 0.1]\n",
    "non_uniform_sample = np.random.choice(arr, size=5, p=probabilities)\n",
    "\n",
    "# Generate a uniform random sample of size 5 without replacement\n",
    "uniform_sample_without_replacement = np.random.choice(arr, size=5, replace=False)\n",
    "uniform_sample_without_replacement"
   ]
  },
  {
   "cell_type": "markdown",
   "id": "5a054507",
   "metadata": {},
   "source": [
    "**50. Write a NumPy program to create a 4x4 array with random values, now create a new array from\n",
    "the said array swapping first and last rows.**"
   ]
  },
  {
   "cell_type": "code",
   "execution_count": 129,
   "id": "e834b394",
   "metadata": {},
   "outputs": [
    {
     "name": "stdout",
     "output_type": "stream",
     "text": [
      "Original array:\n",
      "[[0.61111053 0.10706522 0.19659719 0.71471517]\n",
      " [0.32430757 0.86688609 0.51233335 0.65501881]\n",
      " [0.65040141 0.83501842 0.07174359 0.32641946]\n",
      " [0.22373165 0.88667756 0.84797448 0.37819475]]\n",
      "\n",
      "New array after swapping the first and last rows:\n",
      "[[0.22373165 0.88667756 0.84797448 0.37819475]\n",
      " [0.32430757 0.86688609 0.51233335 0.65501881]\n",
      " [0.65040141 0.83501842 0.07174359 0.32641946]\n",
      " [0.61111053 0.10706522 0.19659719 0.71471517]]\n"
     ]
    }
   ],
   "source": [
    "\n",
    "# create a 4x4 array with random values\n",
    "arr = np.random.rand(4, 4)\n",
    "print(\"Original array:\")\n",
    "print(arr)\n",
    "\n",
    "# create a new array by swapping the first and last rows of the original array\n",
    "new_arr = arr.copy()\n",
    "new_arr[0, :], new_arr[-1, :] = new_arr[-1, :], new_arr[0, :].copy()\n",
    "\n",
    "print(\"\\nNew array after swapping the first and last rows:\")\n",
    "print(new_arr)"
   ]
  },
  {
   "cell_type": "markdown",
   "id": "85db5456",
   "metadata": {},
   "source": [
    "**51. Write a NumPy program to create a new array of given shape (5,6) and type, filled with zeros.**"
   ]
  },
  {
   "cell_type": "code",
   "execution_count": 130,
   "id": "92fa612e",
   "metadata": {},
   "outputs": [
    {
     "name": "stdout",
     "output_type": "stream",
     "text": [
      "[[0 0 0 0 0 0]\n",
      " [0 0 0 0 0 0]\n",
      " [0 0 0 0 0 0]\n",
      " [0 0 0 0 0 0]\n",
      " [0 0 0 0 0 0]]\n"
     ]
    }
   ],
   "source": [
    "# create a new array of given shape (5,6) and type, filled with zeros\n",
    "new_array = np.zeros((5,6), dtype=int)\n",
    "\n",
    "print(new_array)"
   ]
  },
  {
   "cell_type": "markdown",
   "id": "3d6b7a71",
   "metadata": {},
   "source": [
    "**52. Write a NumPy program to sort a given array by row and column in ascending order.**"
   ]
  },
  {
   "cell_type": "code",
   "execution_count": 134,
   "id": "12ecb42f",
   "metadata": {},
   "outputs": [
    {
     "name": "stdout",
     "output_type": "stream",
     "text": [
      "Original array\n",
      " [[3 2 4]\n",
      " [1 6 5]]\n",
      "Sorted by row:\n",
      " [[2 3 4]\n",
      " [1 5 6]]\n",
      "Sorted by column:\n",
      " [[1 2 4]\n",
      " [3 6 5]]\n"
     ]
    }
   ],
   "source": [
    "# Define an example array\n",
    "arr = np.array([[3, 2, 4], [1, 6, 5]])\n",
    "print(\"Original array\\n\",arr)\n",
    "\n",
    "# Sort by row\n",
    "sort_by_row=np.sort(arr,axis=1)\n",
    "print(\"Sorted by row:\\n\",sort_by_row)\n",
    "\n",
    "# Sort by column\n",
    "sort_by_column=np.sort(arr,axis=0)\n",
    "print(\"Sorted by column:\\n\",sort_by_column)"
   ]
  },
  {
   "cell_type": "markdown",
   "id": "37eef61b",
   "metadata": {},
   "source": [
    "**53. Write a NumPy program to extract all numbers from a given array which are less and greater\n",
    "than a specified number.**"
   ]
  },
  {
   "cell_type": "code",
   "execution_count": 139,
   "id": "c0b33665",
   "metadata": {},
   "outputs": [
    {
     "name": "stdout",
     "output_type": "stream",
     "text": [
      "Original array\n",
      " [[3 2 4]\n",
      " [1 6 5]]\n",
      "greater than specific value:- [2 1]\n",
      "less than specific value:- [4 6 5]\n"
     ]
    }
   ],
   "source": [
    "# Define an example array\n",
    "arr = np.array([[3, 2, 4], [1, 6, 5]])\n",
    "print(\"Original array\\n\",arr)\n",
    "\n",
    "specific_arr=3\n",
    "less_than_specific=arr[arr>specific_arr]\n",
    "greater_than_specific=arr[arr<specific_arr]\n",
    "print(\"greater than specific value:-\",greater_than_specific)\n",
    "\n",
    "print(\"less than specific value:-\",less_than_specific)"
   ]
  },
  {
   "cell_type": "markdown",
   "id": "da2a89b3",
   "metadata": {},
   "source": [
    "**54. Write a NumPy program to replace all numbers in a given array which is equal, less and greater\n",
    "to a given number.**"
   ]
  },
  {
   "cell_type": "code",
   "execution_count": 146,
   "id": "947f7dd6",
   "metadata": {},
   "outputs": [
    {
     "name": "stdout",
     "output_type": "stream",
     "text": [
      "Resulting array: [-2 -2 -2 -2 -2 -3 -3 -3 -3]\n"
     ]
    }
   ],
   "source": [
    "# Define an example array\n",
    "arr = np.array([1, 2, 3, 4, 5, 6, 7, 8, 9])\n",
    "\n",
    "# Define the specified number\n",
    "specified_number = 5\n",
    "\n",
    "# Replace all elements equal to the specified number with -1\n",
    "arr[arr == specified_number] = -1\n",
    "\n",
    "# Replace all elements less than the specified number with -2\n",
    "arr[arr < specified_number] = -2\n",
    "\n",
    "# Replace all elements greater than the specified number with -3\n",
    "arr[arr > specified_number] = -3\n",
    "\n",
    "# Print the resulting array\n",
    "print(\"Resulting array:\", arr)"
   ]
  },
  {
   "cell_type": "markdown",
   "id": "6045b427",
   "metadata": {},
   "source": [
    "**55. Write a NumPy program to create an array of equal shape and data type of a given array.**"
   ]
  },
  {
   "cell_type": "code",
   "execution_count": 151,
   "id": "008477f9",
   "metadata": {},
   "outputs": [
    {
     "name": "stdout",
     "output_type": "stream",
     "text": [
      "New array: [0 0 0 0 0]\n"
     ]
    }
   ],
   "source": [
    "# Define an example array\n",
    "arr = np.array([1, 2, 3, 4, 5])\n",
    "\n",
    "# Create an array of equal shape and data type\n",
    "new_arr = np.zeros_like(arr)\n",
    "\n",
    "# Print the new array\n",
    "print(\"New array:\", new_arr)"
   ]
  },
  {
   "cell_type": "markdown",
   "id": "4a3788f2",
   "metadata": {},
   "source": [
    "**56. Write a NumPy program to create a three-dimension array with shape (3,5,4) and set to a\n",
    "variable.**"
   ]
  },
  {
   "cell_type": "code",
   "execution_count": 152,
   "id": "119f9fbe",
   "metadata": {},
   "outputs": [
    {
     "name": "stdout",
     "output_type": "stream",
     "text": [
      "Shape of the array: (3, 5, 4)\n"
     ]
    }
   ],
   "source": [
    "# Create a three-dimensional array with shape (3, 5, 4)\n",
    "arr = np.zeros((3, 5, 4))\n",
    "\n",
    "# Print the shape of the array\n",
    "print(\"Shape of the array:\", arr.shape)"
   ]
  },
  {
   "cell_type": "markdown",
   "id": "729841ec",
   "metadata": {},
   "source": [
    "**57. Write a NumPy program to create a 4x4 array, now create a new array from the said array\n",
    "swapping first and last, second and third columns.**"
   ]
  },
  {
   "cell_type": "code",
   "execution_count": 153,
   "id": "c342c855",
   "metadata": {},
   "outputs": [
    {
     "name": "stdout",
     "output_type": "stream",
     "text": [
      "Original array:\n",
      " [[ 1  2  3  4]\n",
      " [ 5  6  7  8]\n",
      " [ 9 10 11 12]\n",
      " [13 14 15 16]]\n",
      "New array:\n",
      " [[ 4  2  3  1]\n",
      " [ 8  6  7  5]\n",
      " [12 10 11  9]\n",
      " [16 14 15 13]]\n"
     ]
    }
   ],
   "source": [
    "\n",
    "# Create a 4x4 array\n",
    "arr = np.array([[1, 2, 3, 4],\n",
    "                [5, 6, 7, 8],\n",
    "                [9, 10, 11, 12],\n",
    "                [13, 14, 15, 16]])\n",
    "\n",
    "# Swap first and last columns and second and third columns\n",
    "new_arr = arr[:, [3, 1, 2, 0]]\n",
    "\n",
    "# Print the original and new arrays\n",
    "print(\"Original array:\\n\", arr)\n",
    "print(\"New array:\\n\", new_arr)"
   ]
  },
  {
   "cell_type": "markdown",
   "id": "0ff26a2e",
   "metadata": {},
   "source": [
    "**58. Write a NumPy program to swap rows and columns of a given array in reverse order.**"
   ]
  },
  {
   "cell_type": "code",
   "execution_count": 154,
   "id": "e7e9a917",
   "metadata": {},
   "outputs": [
    {
     "name": "stdout",
     "output_type": "stream",
     "text": [
      "Original array:\n",
      " [[ 1  2  3  4]\n",
      " [ 5  6  7  8]\n",
      " [ 9 10 11 12]]\n",
      "New array:\n",
      " [[12 11 10  9]\n",
      " [ 8  7  6  5]\n",
      " [ 4  3  2  1]]\n"
     ]
    }
   ],
   "source": [
    "# Create a 3x4 array\n",
    "arr = np.array([[1, 2, 3, 4],\n",
    "                [5, 6, 7, 8],\n",
    "                [9, 10, 11, 12]])\n",
    "\n",
    "# Swap rows and columns in reverse order\n",
    "new_arr = arr[::-1, ::-1]\n",
    "\n",
    "# Print the original and new arrays\n",
    "print(\"Original array:\\n\", arr)\n",
    "print(\"New array:\\n\", new_arr)"
   ]
  },
  {
   "cell_type": "markdown",
   "id": "262d40be",
   "metadata": {},
   "source": [
    "**59. Write a NumPy program to multiply two given arrays of same size element-by-element.**"
   ]
  },
  {
   "cell_type": "code",
   "execution_count": 155,
   "id": "f898f058",
   "metadata": {},
   "outputs": [
    {
     "name": "stdout",
     "output_type": "stream",
     "text": [
      "[[ 9 16 21]\n",
      " [24 25 24]\n",
      " [21 16  9]]\n"
     ]
    }
   ],
   "source": [
    "# Create two arrays of the same size\n",
    "arr1 = np.array([[1, 2, 3],\n",
    "                 [4, 5, 6],\n",
    "                 [7, 8, 9]])\n",
    "arr2 = np.array([[9, 8, 7],\n",
    "                 [6, 5, 4],\n",
    "                 [3, 2, 1]])\n",
    "\n",
    "# Multiply the arrays element-wise\n",
    "result = arr1 * arr2\n",
    "\n",
    "# Print the result\n",
    "print(result)"
   ]
  }
 ],
 "metadata": {
  "kernelspec": {
   "display_name": "Python 3 (ipykernel)",
   "language": "python",
   "name": "python3"
  },
  "language_info": {
   "codemirror_mode": {
    "name": "ipython",
    "version": 3
   },
   "file_extension": ".py",
   "mimetype": "text/x-python",
   "name": "python",
   "nbconvert_exporter": "python",
   "pygments_lexer": "ipython3",
   "version": "3.9.12"
  }
 },
 "nbformat": 4,
 "nbformat_minor": 5
}
